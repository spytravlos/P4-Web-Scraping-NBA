{
 "cells": [
  {
   "cell_type": "code",
   "execution_count": 1,
   "metadata": {},
   "outputs": [],
   "source": [
    "import requests\n",
    "from bs4 import BeautifulSoup\n",
    "from time import sleep\n",
    "import pandas as pd\n",
    "from tqdm import tqdm_notebook as tqdm # this is a fancy progress bar!\n",
    "import numpy as np"
   ]
  },
  {
   "cell_type": "code",
   "execution_count": 2,
   "metadata": {},
   "outputs": [],
   "source": [
    "main_link = 'https://guide.michelin.com/en/restaurants/page/'"
   ]
  },
  {
   "cell_type": "code",
   "execution_count": 3,
   "metadata": {},
   "outputs": [],
   "source": [
    "user_agent = {'User-agent': ''}\n",
    "response = requests.get(main_link, timeout=15, headers= user_agent)"
   ]
  },
  {
   "cell_type": "code",
   "execution_count": 4,
   "metadata": {},
   "outputs": [
    {
     "data": {
      "text/plain": [
       "200"
      ]
     },
     "execution_count": 4,
     "metadata": {},
     "output_type": "execute_result"
    }
   ],
   "source": [
    "response.status_code"
   ]
  },
  {
   "cell_type": "code",
   "execution_count": 8,
   "metadata": {},
   "outputs": [],
   "source": [
    "soup = BeautifulSoup(response.content, 'html.parser')\n",
    "elements = soup.find_all('section', {'class':'section-main search-results search-listing-result'})"
   ]
  },
  {
   "cell_type": "markdown",
   "metadata": {},
   "source": [
    "# We will first try to get the links of the restaurants"
   ]
  },
  {
   "cell_type": "code",
   "execution_count": 92,
   "metadata": {},
   "outputs": [],
   "source": [
    "restaurants = elements[0].find('div',{'class':'row'}).find_all('div',{'class':'col-lg-12 search-results__column'})[0].find('div',{'class':'row restaurant__list-row js-toggle-result js-geolocation js-restaurant__list_items'}).find_all('div',{'class':'col-md-6 col-lg-6 col-xl-3'})"
   ]
  },
  {
   "cell_type": "code",
   "execution_count": 109,
   "metadata": {},
   "outputs": [
    {
     "data": {
      "text/plain": [
       "<div class=\"col-md-6 col-lg-6 col-xl-3\">\n",
       "<div class=\"card__menu box-placeholder js-restaurant__list_item js-match-height js-map\" data-id=\"8564\" data-index=\"19\" data-lat=\"34.056217\" data-lng=\"-118.27692\">\n",
       "<div class=\"card__menu-image\">\n",
       "<a aria-label=\"Open Langer's\" class=\"image-wrapper pl-image\" data-bg=\"https://axwwgrkdco.cloudimg.io/v7/mtp-cf-images.s3-eu-west-1.amazonaws.com/images/max/0885b8a1-1b17-4170-a29c-8b95bae3d11a.jpg?width=500&amp;sharp=1\" data-category=\"restaurant.result\" data-country=\"en\" data-guide=\"Global\" data-image-id=\"569760_001\" data-image-source=\"cloud_image\" data-position-x=\"50\" data-position-y=\"50\" href=\"/en/restaurants\">\n",
       "<noscript><img alt=\"\" height=\"203\" src=\"https://axwwgrkdco.cloudimg.io/v7/mtp-cf-images.s3-eu-west-1.amazonaws.com/images/max/0885b8a1-1b17-4170-a29c-8b95bae3d11a.jpg?width=500&amp;sharp=1\" width=\"362\"/></noscript>\n",
       "</a>\n",
       "</div>\n",
       "<div class=\"card__menu-content js-match-height-content\">\n",
       "<div class=\"card__menu-content--rating d-flex pl-text\">\n",
       "<i class=\"fa-michelin\">=</i>\n",
       "<span>\n",
       "                MICHELIN Guide California\n",
       "            </span>\n",
       "</div>\n",
       "<h3 class=\"card__menu-content--title last pl-text pl-big\">\n",
       "<a aria-label=\"Open Langer's\" href=\"/en/california/us-los-angeles/restaurant/langer-s\">\n",
       "                Langer's\n",
       "            </a>\n",
       "</h3>\n",
       "<div class=\"color-primary card__menu-content--reservations last pl-text\">\n",
       "            \n",
       "            \n",
       "                \n",
       "                Take Away\n",
       "            \n",
       "            </div>\n",
       "</div>\n",
       "<div class=\"card__menu-footer d-flex js-match-height-footer\">\n",
       "<div class=\"card__menu-footer--location flex-fill pl-text\">\n",
       "<i class=\"icon fal fa-map-marker-alt\"></i>\n",
       "            Los Angeles\n",
       "        </div>\n",
       "<div class=\"card__menu-footer--price pl-text\">\n",
       "            \n",
       "                Deli, Deli\n",
       "            \n",
       "        </div>\n",
       "</div>\n",
       "<a aria-label=\"Open Langer's\" class=\"link\" href=\"/en/california/us-los-angeles/restaurant/langer-s\"></a>\n",
       "</div>\n",
       "</div>"
      ]
     },
     "execution_count": 109,
     "metadata": {},
     "output_type": "execute_result"
    }
   ],
   "source": [
    "restaurants[19]"
   ]
  },
  {
   "cell_type": "code",
   "execution_count": 93,
   "metadata": {},
   "outputs": [
    {
     "data": {
      "text/plain": [
       "20"
      ]
     },
     "execution_count": 93,
     "metadata": {},
     "output_type": "execute_result"
    }
   ],
   "source": [
    "len(restaurants)"
   ]
  },
  {
   "cell_type": "code",
   "execution_count": 207,
   "metadata": {},
   "outputs": [
    {
     "data": {
      "text/plain": [
       "'/en/california/us-los-angeles/restaurant/sushi-enya'"
      ]
     },
     "execution_count": 207,
     "metadata": {},
     "output_type": "execute_result"
    }
   ],
   "source": [
    "restaurants[18].find('div',{'class':'card__menu box-placeholder js-restaurant__list_item js-match-height js-map'}).find('a',{'class':'link'}).attrs['href']"
   ]
  },
  {
   "cell_type": "code",
   "execution_count": 208,
   "metadata": {},
   "outputs": [],
   "source": [
    "links = []\n",
    "for i in range(0,20):\n",
    "    links.append(restaurants[i].find('div',{'class':'card__menu box-placeholder js-restaurant__list_item js-match-height js-map'}).find('a',{'class':'link'}).attrs['href'])"
   ]
  },
  {
   "cell_type": "code",
   "execution_count": 209,
   "metadata": {},
   "outputs": [
    {
     "data": {
      "text/plain": [
       "['/en/california/us-sacramento/restaurant/canon',\n",
       " '/en/california/san-francisco/restaurant/trailblazer-tavern',\n",
       " '/en/california/yountville/restaurant/la-calenda',\n",
       " '/en/california/santa-barbara/restaurant/la-super-rica-taqueria',\n",
       " '/en/california/petaluma/restaurant/stockhome',\n",
       " '/en/california/tustin/restaurant/j-zhou',\n",
       " '/en/california/encino/restaurant/shin-sushi',\n",
       " '/en/california/us-los-angeles/restaurant/maccheroni-republic',\n",
       " '/en/california/us-los-angeles/restaurant/dama',\n",
       " '/en/california/bell-gardens/restaurant/rocio-s-mexican-kitchen',\n",
       " '/en/california/pomona/restaurant/mariscos-jalisco',\n",
       " '/en/california/rosemead/restaurant/longo-seafood',\n",
       " '/en/california/us-los-angeles/restaurant/hayato',\n",
       " '/en/california/oakland/restaurant/fob-kitchen',\n",
       " '/en/california/san-francisco/restaurant/five-happiness',\n",
       " '/en/california/san-francisco/restaurant/ramenwell',\n",
       " '/en/california/corte-madera/restaurant/pig-in-a-pickle',\n",
       " '/en/california/san-francisco/restaurant/harborview',\n",
       " '/en/california/us-los-angeles/restaurant/sushi-enya',\n",
       " '/en/california/us-los-angeles/restaurant/langer-s']"
      ]
     },
     "execution_count": 209,
     "metadata": {},
     "output_type": "execute_result"
    }
   ],
   "source": [
    "links"
   ]
  },
  {
   "cell_type": "markdown",
   "metadata": {},
   "source": [
    "### The above are just the links of the first page, i.e. first 20 results of our search"
   ]
  },
  {
   "cell_type": "code",
   "execution_count": null,
   "metadata": {},
   "outputs": [],
   "source": []
  }
 ],
 "metadata": {
  "kernelspec": {
   "display_name": "Python 3",
   "language": "python",
   "name": "python3"
  },
  "language_info": {
   "codemirror_mode": {
    "name": "ipython",
    "version": 3
   },
   "file_extension": ".py",
   "mimetype": "text/x-python",
   "name": "python",
   "nbconvert_exporter": "python",
   "pygments_lexer": "ipython3",
   "version": "3.8.5"
  }
 },
 "nbformat": 4,
 "nbformat_minor": 4
}
